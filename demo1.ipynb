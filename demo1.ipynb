{
 "cells": [
  {
   "cell_type": "markdown",
   "source": [],
   "metadata": {
    "collapsed": false
   }
  },
  {
   "cell_type": "code",
   "execution_count": 97,
   "outputs": [
    {
     "name": "stderr",
     "output_type": "stream",
     "text": [
      "/var/folders/7g/hwjf72_14mgdnxg9y88mhvv00000gn/T/ipykernel_3407/2146931429.py:6: DtypeWarning: Columns (0,1,4,5,6,7,8,14,17,39,41,43,44,46,50,52,53,54,55,58,59,60,61,62,63,64,66,67,69,70,72,109,112,114,116,117,119,123,125,126,127,128,131,132,133,134,135,136,138,139,141,142,144) have mixed types. Specify dtype option on import or set low_memory=False.\n",
      "  df = pd.read_csv('/Users/jiayi/PycharmProjects/data/data.csv',index_col = 0)\n"
     ]
    }
   ],
   "source": [
    "import os\n",
    "import pandas as pd\n",
    "from DataProcess.Data_reader import read_data\n",
    "js_files_path = '/Users/jiayi/PycharmProjects/twitter/geoEurope'\n",
    "if 'data.csv' in os.listdir('/Users/jiayi/PycharmProjects/data'):\n",
    "    df = pd.read_csv('/Users/jiayi/PycharmProjects/data/data.csv',index_col = 0)\n",
    "else:\n",
    "    df = read_data(js_files_path)\n"
   ],
   "metadata": {
    "collapsed": false
   }
  },
  {
   "cell_type": "code",
   "execution_count": 91,
   "outputs": [
    {
     "data": {
      "text/plain": "  reply_count  in_reply_to_status_id  favorited in_reply_to_status_id_str  \\\n0         NaN                    NaN        NaN                       NaN   \n1         NaN                    NaN        NaN                       NaN   \n2         NaN                    NaN        NaN                       NaN   \n3         NaN                    NaN        NaN                       NaN   \n4         NaN                    NaN        NaN                       NaN   \n\n  entities id_str in_reply_to_screen_name coordinates  quote_count  retweeted  \\\n0      NaN    NaN                     NaN         NaN          NaN        NaN   \n1      NaN    NaN                     NaN         NaN          NaN        NaN   \n2      NaN    NaN                     NaN         NaN          NaN        NaN   \n3      NaN    NaN                     NaN         NaN          NaN        NaN   \n4      NaN    NaN                     NaN         NaN          NaN        NaN   \n\n   ...  filter_level.3  is_quote_status.3  quoted_status_id_str.3  \\\n0  ...             low              False                     NaN   \n1  ...             low              False                     NaN   \n2  ...             low               True            1.536100e+18   \n3  ...             low              False                     NaN   \n4  ...             low              False                     NaN   \n\n                           quoted_status_permalink.3  \\\n0                                                NaN   \n1                                                NaN   \n2  {'display': 'twitter.com/RodgerRoberts1…', 'ex...   \n3                                                NaN   \n4                                                NaN   \n\n                                     quoted_status.3  quoted_status_id.3  \\\n0                                                NaN                 NaN   \n1                                                NaN                 NaN   \n2  {'reply_count': 1, 'in_reply_to_status_id': No...        1.536100e+18   \n3                                                NaN                 NaN   \n4                                                NaN                 NaN   \n\n                                    extended_tweet.3  display_text_range.3  \\\n0                                                NaN                   NaN   \n1                                                NaN                   NaN   \n2                                                NaN                   NaN   \n3  {'display_text_range': [0, 277], 'entities': {...                   NaN   \n4                                                NaN             [65, 125]   \n\n   possibly_sensitive.3  extended_entities.3  \n0                   NaN                  NaN  \n1                   NaN                  NaN  \n2                   NaN                  NaN  \n3                   NaN                  NaN  \n4                   NaN                  NaN  \n\n[5 rows x 144 columns]",
      "text/html": "<div>\n<style scoped>\n    .dataframe tbody tr th:only-of-type {\n        vertical-align: middle;\n    }\n\n    .dataframe tbody tr th {\n        vertical-align: top;\n    }\n\n    .dataframe thead th {\n        text-align: right;\n    }\n</style>\n<table border=\"1\" class=\"dataframe\">\n  <thead>\n    <tr style=\"text-align: right;\">\n      <th></th>\n      <th>reply_count</th>\n      <th>in_reply_to_status_id</th>\n      <th>favorited</th>\n      <th>in_reply_to_status_id_str</th>\n      <th>entities</th>\n      <th>id_str</th>\n      <th>in_reply_to_screen_name</th>\n      <th>coordinates</th>\n      <th>quote_count</th>\n      <th>retweeted</th>\n      <th>...</th>\n      <th>filter_level.3</th>\n      <th>is_quote_status.3</th>\n      <th>quoted_status_id_str.3</th>\n      <th>quoted_status_permalink.3</th>\n      <th>quoted_status.3</th>\n      <th>quoted_status_id.3</th>\n      <th>extended_tweet.3</th>\n      <th>display_text_range.3</th>\n      <th>possibly_sensitive.3</th>\n      <th>extended_entities.3</th>\n    </tr>\n  </thead>\n  <tbody>\n    <tr>\n      <th>0</th>\n      <td>NaN</td>\n      <td>NaN</td>\n      <td>NaN</td>\n      <td>NaN</td>\n      <td>NaN</td>\n      <td>NaN</td>\n      <td>NaN</td>\n      <td>NaN</td>\n      <td>NaN</td>\n      <td>NaN</td>\n      <td>...</td>\n      <td>low</td>\n      <td>False</td>\n      <td>NaN</td>\n      <td>NaN</td>\n      <td>NaN</td>\n      <td>NaN</td>\n      <td>NaN</td>\n      <td>NaN</td>\n      <td>NaN</td>\n      <td>NaN</td>\n    </tr>\n    <tr>\n      <th>1</th>\n      <td>NaN</td>\n      <td>NaN</td>\n      <td>NaN</td>\n      <td>NaN</td>\n      <td>NaN</td>\n      <td>NaN</td>\n      <td>NaN</td>\n      <td>NaN</td>\n      <td>NaN</td>\n      <td>NaN</td>\n      <td>...</td>\n      <td>low</td>\n      <td>False</td>\n      <td>NaN</td>\n      <td>NaN</td>\n      <td>NaN</td>\n      <td>NaN</td>\n      <td>NaN</td>\n      <td>NaN</td>\n      <td>NaN</td>\n      <td>NaN</td>\n    </tr>\n    <tr>\n      <th>2</th>\n      <td>NaN</td>\n      <td>NaN</td>\n      <td>NaN</td>\n      <td>NaN</td>\n      <td>NaN</td>\n      <td>NaN</td>\n      <td>NaN</td>\n      <td>NaN</td>\n      <td>NaN</td>\n      <td>NaN</td>\n      <td>...</td>\n      <td>low</td>\n      <td>True</td>\n      <td>1.536100e+18</td>\n      <td>{'display': 'twitter.com/RodgerRoberts1…', 'ex...</td>\n      <td>{'reply_count': 1, 'in_reply_to_status_id': No...</td>\n      <td>1.536100e+18</td>\n      <td>NaN</td>\n      <td>NaN</td>\n      <td>NaN</td>\n      <td>NaN</td>\n    </tr>\n    <tr>\n      <th>3</th>\n      <td>NaN</td>\n      <td>NaN</td>\n      <td>NaN</td>\n      <td>NaN</td>\n      <td>NaN</td>\n      <td>NaN</td>\n      <td>NaN</td>\n      <td>NaN</td>\n      <td>NaN</td>\n      <td>NaN</td>\n      <td>...</td>\n      <td>low</td>\n      <td>False</td>\n      <td>NaN</td>\n      <td>NaN</td>\n      <td>NaN</td>\n      <td>NaN</td>\n      <td>{'display_text_range': [0, 277], 'entities': {...</td>\n      <td>NaN</td>\n      <td>NaN</td>\n      <td>NaN</td>\n    </tr>\n    <tr>\n      <th>4</th>\n      <td>NaN</td>\n      <td>NaN</td>\n      <td>NaN</td>\n      <td>NaN</td>\n      <td>NaN</td>\n      <td>NaN</td>\n      <td>NaN</td>\n      <td>NaN</td>\n      <td>NaN</td>\n      <td>NaN</td>\n      <td>...</td>\n      <td>low</td>\n      <td>False</td>\n      <td>NaN</td>\n      <td>NaN</td>\n      <td>NaN</td>\n      <td>NaN</td>\n      <td>NaN</td>\n      <td>[65, 125]</td>\n      <td>NaN</td>\n      <td>NaN</td>\n    </tr>\n  </tbody>\n</table>\n<p>5 rows × 144 columns</p>\n</div>"
     },
     "execution_count": 91,
     "metadata": {},
     "output_type": "execute_result"
    }
   ],
   "source": [
    "pr_1w = pd.read_csv('/Users/jiayi/PycharmProjects/data/data.csv',nrows = 10000)\n",
    "pr_1w.to_csv('/Users/jiayi/PycharmProjects/data/First_10w.csv')"
   ],
   "metadata": {
    "collapsed": false
   }
  },
  {
   "cell_type": "code",
   "execution_count": null,
   "outputs": [],
   "source": [],
   "metadata": {
    "collapsed": false
   }
  }
 ],
 "metadata": {
  "kernelspec": {
   "display_name": "Python 3",
   "language": "python",
   "name": "python3"
  },
  "language_info": {
   "codemirror_mode": {
    "name": "ipython",
    "version": 2
   },
   "file_extension": ".py",
   "mimetype": "text/x-python",
   "name": "python",
   "nbconvert_exporter": "python",
   "pygments_lexer": "ipython2",
   "version": "2.7.6"
  }
 },
 "nbformat": 4,
 "nbformat_minor": 0
}
